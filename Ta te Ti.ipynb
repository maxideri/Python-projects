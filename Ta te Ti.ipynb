{
 "cells": [
  {
   "cell_type": "code",
   "execution_count": 1,
   "metadata": {},
   "outputs": [],
   "source": [
    "def play_game(): #Convoco el juego\n",
    "    print(\"Bienvenido al Ta - Te - Ti de Maxi\")\n",
    "    \n",
    "    Tablero=list(range(1,10)) # genero el tablero de juego\n",
    "    ganador=\"No\"\n",
    "    \n",
    "    # para mostrar el tablero de juego\n",
    "    def mostrar_tablero():\n",
    "        print (Tablero[0:3])\n",
    "        print (Tablero[3:6])\n",
    "        print (Tablero[6:9])\n",
    "    \n",
    "    # para chequear si hay 3 en linea\n",
    "    def check():\n",
    "        matriz_chequeo=[\"X\",\"X\",\"X\",\"O\",\"O\",\"O\"]\n",
    "        #inicio de chequeo horizontal\n",
    "        ha=0\n",
    "        hb=3\n",
    "        #inicio de chequeo vertical\n",
    "        va=0\n",
    "        vb=7\n",
    "        while hb < 10:\n",
    "            if  matriz_chequeo[0:3]== Tablero[ha:hb] or matriz_chequeo[0:3] == Tablero[va:vb:3] or matriz_chequeo[0:3] == Tablero[0:9:4] or matriz_chequeo[0:3] == Tablero[2:7:2] or matriz_chequeo[3:6]== Tablero[ha:hb] or matriz_chequeo[3:6] == Tablero[va:vb:3] or matriz_chequeo[3:6] == Tablero[0:9:4] or matriz_chequeo[3:6] == Tablero[2:7:2]:\n",
    "                ganador=\"Si\"\n",
    "                return True\n",
    "            else:\n",
    "                ha=ha+3\n",
    "                hb=hb+3\n",
    "                va=va+1\n",
    "                vb=vb+1\n",
    "        return False\n",
    "    \n",
    "    # juego empatado. quieren volver a jugar?\n",
    "    def jugar_again():\n",
    "        print (\"Han empatado\")\n",
    "        again=input (\"Quieren jugar de nuevo: \").capitalize()\n",
    "        if again == \"Si\":\n",
    "            player()\n",
    "        elif again == \"No\":\n",
    "            print (\"Esperamos que vuelvan a jugar pronto\")\n",
    "            return \n",
    "        else:\n",
    "            print (\"Por vafor, elige entre ´Si´ o ´No´\")\n",
    "            jugar_again()\n",
    " \n",
    "    # Valido X o O\n",
    "    def player():\n",
    "        x_o=[\"X\",\"O\"]\n",
    "        player_1= input(\"Jugador 1: Quieres ser X o O? \").upper()\n",
    "        if player_1 in x_o:\n",
    "            ganador = \"No\"\n",
    "            # le asigno al jugador 2 lo que no eligio el jugador 1\n",
    "            x_o.remove(player_1) \n",
    "            player_2=x_o[0]\n",
    "            \n",
    "            #armo una lista con las elecciones de los dos jugadores\n",
    "            players=[player_1,player_2]\n",
    "            mostrar_tablero()\n",
    "            \n",
    "            # itinero sobre cada jugdor por ronda\n",
    "            var=[1,2] # numero de los jugadores\n",
    "            turno=0 # ronda de juego\n",
    "            elegidos=[] # almaceno todos los numeros que eligen los usuarios\n",
    "            while len(elegidos)!=9: # juego hasta que se hayan elegido nueve numeros distintos, es decir se hayan ocupado todas las posiciones\n",
    "                posicion=int(input(f\"Tu turno jugador {var[turno%2]}. En que posicion lo ubicas? \")) # rondas pares juega J1, impares juega J2\n",
    "                if posicion <10: #chequeo que eligan un numero dentro del rango\n",
    "                    if posicion not in elegidos: # chequeo que la posicion no se haya jugado\n",
    "                        Tablero[posicion-1]=players[turno%2]\n",
    "                        mostrar_tablero()\n",
    "                        turno=turno+1\n",
    "                        elegidos.append(posicion)\n",
    "                        # Chequeo si con este movimiento el jugador gano\n",
    "                        if check() == True:\n",
    "                            print (\"Felicitaciones, has ganado!\")\n",
    "                            return\n",
    "                    else:\n",
    "                        print (\"Ya esta elegida ese posicion. Selecciona otro numero del 1 al 9\")\n",
    "                    continue\n",
    "                else: # si no eligio un numero del 1 a 9\n",
    "                    print (\"Elige un numero del 1 a 9\")\n",
    "                continue\n",
    "            jugar_again()\n",
    "            \n",
    "        else: # Si no eligio entre X o O\n",
    "            print (\"Elija entre X o O por favor\")\n",
    "            player()\n",
    "    \n",
    "    # Estas listo para jugar?\n",
    "    def jugar():\n",
    "        listo = input(\"Estas listo para jugar?: Selecciona Si o No \").capitalize()\n",
    "        if listo == \"Si\":\n",
    "            player()\n",
    "\n",
    "        elif listo == \"No\":\n",
    "            print (\"Esperamos que pronto te animes a jugar\")\n",
    "            return \n",
    "\n",
    "        else:\n",
    "            print (\"Por vafor, elige entre ´Si´ o ´No´\")\n",
    "            jugar()\n",
    "    \n",
    "    jugar()\n",
    "        \n",
    "        \n",
    "    \n",
    "        "
   ]
  },
  {
   "cell_type": "code",
   "execution_count": 3,
   "metadata": {},
   "outputs": [
    {
     "name": "stdout",
     "output_type": "stream",
     "text": [
      "Bienvenido al Ta - Te - Ti de Maxi\n",
      "Estas listo para jugar?: Selecciona Si o No si\n",
      "Jugador 1: Quieres ser X o O? x\n",
      "[1, 2, 3]\n",
      "[4, 5, 6]\n",
      "[7, 8, 9]\n",
      "Tu turno jugador 1. En que posicion lo ubicas? 1\n",
      "['X', 2, 3]\n",
      "[4, 5, 6]\n",
      "[7, 8, 9]\n",
      "Tu turno jugador 2. En que posicion lo ubicas? 5\n",
      "['X', 2, 3]\n",
      "[4, 'O', 6]\n",
      "[7, 8, 9]\n",
      "Tu turno jugador 1. En que posicion lo ubicas? 7\n",
      "['X', 2, 3]\n",
      "[4, 'O', 6]\n",
      "['X', 8, 9]\n",
      "Tu turno jugador 2. En que posicion lo ubicas? 4\n",
      "['X', 2, 3]\n",
      "['O', 'O', 6]\n",
      "['X', 8, 9]\n",
      "Tu turno jugador 1. En que posicion lo ubicas? 6\n",
      "['X', 2, 3]\n",
      "['O', 'O', 'X']\n",
      "['X', 8, 9]\n",
      "Tu turno jugador 2. En que posicion lo ubicas? 2\n",
      "['X', 'O', 3]\n",
      "['O', 'O', 'X']\n",
      "['X', 8, 9]\n",
      "Tu turno jugador 1. En que posicion lo ubicas? 8\n",
      "['X', 'O', 3]\n",
      "['O', 'O', 'X']\n",
      "['X', 'X', 9]\n",
      "Tu turno jugador 2. En que posicion lo ubicas? 9\n",
      "['X', 'O', 3]\n",
      "['O', 'O', 'X']\n",
      "['X', 'X', 'O']\n",
      "Tu turno jugador 1. En que posicion lo ubicas? 9\n",
      "Ya esta elegida ese posicion. Selecciona otro numero del 1 al 9\n",
      "Tu turno jugador 1. En que posicion lo ubicas? 3\n",
      "['X', 'O', 'X']\n",
      "['O', 'O', 'X']\n",
      "['X', 'X', 'O']\n",
      "Han empatado\n",
      "Quieren jugar de nuevo: no\n",
      "Esperamos que vuelvan a jugar pronto\n"
     ]
    }
   ],
   "source": [
    "play_game()"
   ]
  },
  {
   "cell_type": "code",
   "execution_count": 7,
   "metadata": {},
   "outputs": [],
   "source": [
    "x=[1,2,3]"
   ]
  },
  {
   "cell_type": "markdown",
   "metadata": {},
   "source": [
    "1 in x"
   ]
  },
  {
   "cell_type": "code",
   "execution_count": 22,
   "metadata": {},
   "outputs": [
    {
     "data": {
      "text/plain": [
       "True"
      ]
     },
     "execution_count": 22,
     "metadata": {},
     "output_type": "execute_result"
    }
   ],
   "source": [
    "1 in x"
   ]
  },
  {
   "cell_type": "code",
   "execution_count": null,
   "metadata": {},
   "outputs": [],
   "source": [
    "\n",
    "posicion=int(input(f\"Tu turno jugador {var[0]}. En que posicion lo ubicas? \"))"
   ]
  },
  {
   "cell_type": "code",
   "execution_count": 1,
   "metadata": {},
   "outputs": [],
   "source": [
    "var=[1,2]"
   ]
  },
  {
   "cell_type": "code",
   "execution_count": null,
   "metadata": {},
   "outputs": [
    {
     "name": "stdout",
     "output_type": "stream",
     "text": [
      "Tu turno jugador 1. En que posicion lo ubicas? 0\n"
     ]
    }
   ],
   "source": [
    "input(f\"Tu turno jugador {var[0]}. En que posicion lo ubicas? \")"
   ]
  },
  {
   "cell_type": "code",
   "execution_count": 2,
   "metadata": {},
   "outputs": [
    {
     "data": {
      "text/plain": [
       "1"
      ]
     },
     "execution_count": 2,
     "metadata": {},
     "output_type": "execute_result"
    }
   ],
   "source": [
    "1%2"
   ]
  },
  {
   "cell_type": "code",
   "execution_count": 3,
   "metadata": {},
   "outputs": [],
   "source": [
    "player_1=0"
   ]
  },
  {
   "cell_type": "code",
   "execution_count": 4,
   "metadata": {},
   "outputs": [
    {
     "ename": "NameError",
     "evalue": "name 'player_' is not defined",
     "output_type": "error",
     "traceback": [
      "\u001b[1;31m---------------------------------------------------------------------------\u001b[0m",
      "\u001b[1;31mNameError\u001b[0m                                 Traceback (most recent call last)",
      "\u001b[1;32m<ipython-input-4-4da8b4374def>\u001b[0m in \u001b[0;36m<module>\u001b[1;34m\u001b[0m\n\u001b[1;32m----> 1\u001b[1;33m \u001b[0mplayer_\u001b[0m\u001b[1;33m+\u001b[0m\u001b[1;36m1\u001b[0m\u001b[1;33m\u001b[0m\u001b[1;33m\u001b[0m\u001b[0m\n\u001b[0m",
      "\u001b[1;31mNameError\u001b[0m: name 'player_' is not defined"
     ]
    }
   ],
   "source": [
    "player_+1"
   ]
  },
  {
   "cell_type": "code",
   "execution_count": 5,
   "metadata": {},
   "outputs": [],
   "source": [
    "a=0\n",
    "b=1\n",
    "c=[a,b]"
   ]
  },
  {
   "cell_type": "code",
   "execution_count": 6,
   "metadata": {},
   "outputs": [
    {
     "data": {
      "text/plain": [
       "[0, 1]"
      ]
     },
     "execution_count": 6,
     "metadata": {},
     "output_type": "execute_result"
    }
   ],
   "source": [
    "c"
   ]
  },
  {
   "cell_type": "code",
   "execution_count": null,
   "metadata": {},
   "outputs": [],
   "source": []
  }
 ],
 "metadata": {
  "kernelspec": {
   "display_name": "Python 3",
   "language": "python",
   "name": "python3"
  },
  "language_info": {
   "codemirror_mode": {
    "name": "ipython",
    "version": 3
   },
   "file_extension": ".py",
   "mimetype": "text/x-python",
   "name": "python",
   "nbconvert_exporter": "python",
   "pygments_lexer": "ipython3",
   "version": "3.8.5"
  }
 },
 "nbformat": 4,
 "nbformat_minor": 4
}
